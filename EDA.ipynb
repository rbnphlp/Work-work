{
 "cells": [
  {
   "cell_type": "code",
   "execution_count": 1,
   "metadata": {},
   "outputs": [
    {
     "data": {
      "text/html": [
       "<div>\n",
       "<style scoped>\n",
       "    .dataframe tbody tr th:only-of-type {\n",
       "        vertical-align: middle;\n",
       "    }\n",
       "\n",
       "    .dataframe tbody tr th {\n",
       "        vertical-align: top;\n",
       "    }\n",
       "\n",
       "    .dataframe thead th {\n",
       "        text-align: right;\n",
       "    }\n",
       "</style>\n",
       "<table border=\"1\" class=\"dataframe\">\n",
       "  <thead>\n",
       "    <tr style=\"text-align: right;\">\n",
       "      <th></th>\n",
       "      <th>House_hold_id</th>\n",
       "      <th>individual_id</th>\n",
       "      <th>channel_code</th>\n",
       "      <th>start_time</th>\n",
       "      <th>end_time</th>\n",
       "      <th>tv_set</th>\n",
       "      <th>audience_type</th>\n",
       "    </tr>\n",
       "  </thead>\n",
       "  <tbody>\n",
       "    <tr>\n",
       "      <th>0</th>\n",
       "      <td>26405151</td>\n",
       "      <td>01</td>\n",
       "      <td>0001</td>\n",
       "      <td>124100</td>\n",
       "      <td>130459</td>\n",
       "      <td>9</td>\n",
       "      <td>1</td>\n",
       "    </tr>\n",
       "    <tr>\n",
       "      <th>1</th>\n",
       "      <td>26405151</td>\n",
       "      <td>01</td>\n",
       "      <td>0001</td>\n",
       "      <td>201400</td>\n",
       "      <td>215259</td>\n",
       "      <td>9</td>\n",
       "      <td>1</td>\n",
       "    </tr>\n",
       "    <tr>\n",
       "      <th>2</th>\n",
       "      <td>26405151</td>\n",
       "      <td>01</td>\n",
       "      <td>0042</td>\n",
       "      <td>082000</td>\n",
       "      <td>084359</td>\n",
       "      <td>9</td>\n",
       "      <td>1</td>\n",
       "    </tr>\n",
       "    <tr>\n",
       "      <th>3</th>\n",
       "      <td>26405151</td>\n",
       "      <td>01</td>\n",
       "      <td>0042</td>\n",
       "      <td>103700</td>\n",
       "      <td>103759</td>\n",
       "      <td>9</td>\n",
       "      <td>1</td>\n",
       "    </tr>\n",
       "    <tr>\n",
       "      <th>4</th>\n",
       "      <td>26405151</td>\n",
       "      <td>01</td>\n",
       "      <td>0202</td>\n",
       "      <td>081800</td>\n",
       "      <td>081959</td>\n",
       "      <td>9</td>\n",
       "      <td>1</td>\n",
       "    </tr>\n",
       "  </tbody>\n",
       "</table>\n",
       "</div>"
      ],
      "text/plain": [
       "  House_hold_id individual_id channel_code start_time end_time tv_set  \\\n",
       "0      26405151            01         0001     124100   130459      9   \n",
       "1      26405151            01         0001     201400   215259      9   \n",
       "2      26405151            01         0042     082000   084359      9   \n",
       "3      26405151            01         0042     103700   103759      9   \n",
       "4      26405151            01         0202     081800   081959      9   \n",
       "\n",
       "  audience_type  \n",
       "0             1  \n",
       "1             1  \n",
       "2             1  \n",
       "3             1  \n",
       "4             1  "
      ]
     },
     "execution_count": 1,
     "metadata": {},
     "output_type": "execute_result"
    }
   ],
   "source": [
    "\n",
    "## read in the swed file \n",
    "with open('310816_swd.txt', 'r') as myfile:\n",
    "        content = myfile.readlines()\n",
    "## Find the length \n",
    "house_hold_id=[]\n",
    "individual_id=[]\n",
    "channel_code=[]\n",
    "start_time=[]\n",
    "end_time=[]\n",
    "tv_set=[]\n",
    "audience_type=[]\n",
    "\n",
    "\n",
    "for i in content:\n",
    "\n",
    "    house_hold_id.append(i[0:8])\n",
    "    individual_id.append(i[8:10])\n",
    "    channel_code.append(i[10:14])\n",
    "    start_time.append(i[14:20])\n",
    "    end_time.append(i[20:26])\n",
    "    tv_set.append(i[26])\n",
    "    audience_type.append(i[27])\n",
    "    \n",
    "    \n",
    "\n",
    "## Convert into pandas DF\n",
    "import pandas as pd\n",
    "swd_data = pd.DataFrame(\n",
    "    {'House_hold_id': house_hold_id,\n",
    "     'individual_id': individual_id,\n",
    "     'channel_code': channel_code,\n",
    "     'start_time':start_time,\n",
    "     'end_time':end_time,\n",
    "     'tv_set':tv_set,\n",
    "     'audience_type':audience_type\n",
    "    })\n",
    "\n",
    "swd_data.head()\n",
    "\n"
   ]
  },
  {
   "cell_type": "code",
   "execution_count": 2,
   "metadata": {},
   "outputs": [],
   "source": [
    "\n",
    "bytes_read = open(\"310816_dem.txt\", \"rb\").read()"
   ]
  },
  {
   "cell_type": "code",
   "execution_count": 3,
   "metadata": {},
   "outputs": [],
   "source": [
    "m=[]\n",
    "for i in bytes_read:\n",
    "    m.append(str(chr(i)))\n",
    "l=''.join(m)  \n",
    "dem=l.splitlines()"
   ]
  },
  {
   "cell_type": "code",
   "execution_count": 4,
   "metadata": {},
   "outputs": [],
   "source": [
    "house_hold_id_1=[]\n",
    "individual_id_1=[]\n",
    "weight=[]\n",
    "viewer_type=[]\n",
    "sampletype=[]\n",
    "demographic_inf0=[]\n",
    "\n",
    "\n",
    "for i in dem:\n",
    "    house_hold_id_1.append(i[0:8])\n",
    "    individual_id_1.append(i[8:10])\n",
    "    weight.append(i[10:18])\n",
    "    viewer_type.append(i[18])\n",
    "    sampletype.append(i[19])\n",
    "    demographic_inf0.append(i[19:(len(i)-1)])\n",
    "    "
   ]
  },
  {
   "cell_type": "code",
   "execution_count": 5,
   "metadata": {},
   "outputs": [],
   "source": [
    "## Clean up deomgraphic info :\n",
    "demographic_inf0\n",
    "## fidn the byte vlaue and subtract 48 and recast back :\n",
    "dem_info=[]\n",
    "for i in demographic_inf0:\n",
    "    s=''\n",
    "    for j in i:\n",
    "        s+=str(ord(j)-48)\n",
    "    dem_info.append(s)\n"
   ]
  },
  {
   "cell_type": "code",
   "execution_count": 6,
   "metadata": {},
   "outputs": [
    {
     "data": {
      "text/html": [
       "<div>\n",
       "<style scoped>\n",
       "    .dataframe tbody tr th:only-of-type {\n",
       "        vertical-align: middle;\n",
       "    }\n",
       "\n",
       "    .dataframe tbody tr th {\n",
       "        vertical-align: top;\n",
       "    }\n",
       "\n",
       "    .dataframe thead th {\n",
       "        text-align: right;\n",
       "    }\n",
       "</style>\n",
       "<table border=\"1\" class=\"dataframe\">\n",
       "  <thead>\n",
       "    <tr style=\"text-align: right;\">\n",
       "      <th></th>\n",
       "      <th>House_hold_id</th>\n",
       "      <th>individual_id</th>\n",
       "      <th>weight</th>\n",
       "      <th>viewer_type</th>\n",
       "      <th>sample_type</th>\n",
       "      <th>demographic_info</th>\n",
       "    </tr>\n",
       "  </thead>\n",
       "  <tbody>\n",
       "    <tr>\n",
       "      <th>0</th>\n",
       "      <td>26405151</td>\n",
       "      <td>01</td>\n",
       "      <td>005.5611</td>\n",
       "      <td>1</td>\n",
       "      <td>1</td>\n",
       "      <td>126874512212221221111121226</td>\n",
       "    </tr>\n",
       "    <tr>\n",
       "      <th>1</th>\n",
       "      <td>26405151</td>\n",
       "      <td>02</td>\n",
       "      <td>006.2414</td>\n",
       "      <td>1</td>\n",
       "      <td>1</td>\n",
       "      <td>116874512212222221111121226</td>\n",
       "    </tr>\n",
       "    <tr>\n",
       "      <th>2</th>\n",
       "      <td>26405338</td>\n",
       "      <td>02</td>\n",
       "      <td>005.5611</td>\n",
       "      <td>1</td>\n",
       "      <td>1</td>\n",
       "      <td>12616357142221221121121236</td>\n",
       "    </tr>\n",
       "    <tr>\n",
       "      <th>3</th>\n",
       "      <td>26405338</td>\n",
       "      <td>03</td>\n",
       "      <td>018.6235</td>\n",
       "      <td>1</td>\n",
       "      <td>1</td>\n",
       "      <td>11293547142222221121121214</td>\n",
       "    </tr>\n",
       "    <tr>\n",
       "      <th>4</th>\n",
       "      <td>26405431</td>\n",
       "      <td>01</td>\n",
       "      <td>005.5611</td>\n",
       "      <td>1</td>\n",
       "      <td>1</td>\n",
       "      <td>126875513212222222141121236</td>\n",
       "    </tr>\n",
       "  </tbody>\n",
       "</table>\n",
       "</div>"
      ],
      "text/plain": [
       "  House_hold_id individual_id    weight viewer_type sample_type  \\\n",
       "0      26405151            01  005.5611           1           1   \n",
       "1      26405151            02  006.2414           1           1   \n",
       "2      26405338            02  005.5611           1           1   \n",
       "3      26405338            03  018.6235           1           1   \n",
       "4      26405431            01  005.5611           1           1   \n",
       "\n",
       "              demographic_info  \n",
       "0  126874512212221221111121226  \n",
       "1  116874512212222221111121226  \n",
       "2   12616357142221221121121236  \n",
       "3   11293547142222221121121214  \n",
       "4  126875513212222222141121236  "
      ]
     },
     "execution_count": 6,
     "metadata": {},
     "output_type": "execute_result"
    }
   ],
   "source": [
    "dem_data=pd.DataFrame(\n",
    "    {'House_hold_id': house_hold_id_1,\n",
    "     'individual_id': individual_id_1,\n",
    "     'weight':weight,\n",
    "     'viewer_type':viewer_type,\n",
    "     'sample_type':sampletype,\n",
    "     'demographic_info':dem_info\n",
    "    })\n",
    "\n",
    "dem_data.head()"
   ]
  },
  {
   "cell_type": "code",
   "execution_count": 7,
   "metadata": {},
   "outputs": [
    {
     "data": {
      "text/plain": [
       "27"
      ]
     },
     "execution_count": 7,
     "metadata": {},
     "output_type": "execute_result"
    }
   ],
   "source": [
    "max(dem_data.demographic_info.apply(len))"
   ]
  },
  {
   "cell_type": "code",
   "execution_count": 24,
   "metadata": {},
   "outputs": [
    {
     "data": {
      "text/plain": [
       "1001    2.111112e+07\n",
       "608     2.897490e+01\n",
       "939     2.897490e+01\n",
       "784     2.897490e+01\n",
       "797     2.897490e+01\n",
       "Name: weight, dtype: float64"
      ]
     },
     "execution_count": 24,
     "metadata": {},
     "output_type": "execute_result"
    }
   ],
   "source": [
    "dem_data.weight.sort_values(ascending=False).head()"
   ]
  },
  {
   "cell_type": "code",
   "execution_count": null,
   "metadata": {},
   "outputs": [],
   "source": [
    "# "
   ]
  },
  {
   "cell_type": "code",
   "execution_count": null,
   "metadata": {},
   "outputs": [],
   "source": []
  },
  {
   "cell_type": "code",
   "execution_count": null,
   "metadata": {},
   "outputs": [],
   "source": []
  },
  {
   "cell_type": "code",
   "execution_count": 20,
   "metadata": {},
   "outputs": [
    {
     "data": {
      "text/plain": [
       "<bound method Series.sort_values of 0        5.5611\n",
       "1        6.2414\n",
       "2        5.5611\n",
       "3       18.6235\n",
       "4        5.5611\n",
       "5       15.4562\n",
       "6        6.2414\n",
       "7        5.5611\n",
       "8        7.3465\n",
       "9        8.4167\n",
       "10       6.2414\n",
       "11       7.3465\n",
       "12      11.4299\n",
       "13       8.6521\n",
       "14       8.5806\n",
       "15       6.2414\n",
       "16       5.5611\n",
       "17       5.5611\n",
       "18       6.2414\n",
       "19       6.3251\n",
       "20       6.3251\n",
       "21       5.6356\n",
       "22      18.8731\n",
       "23      13.0950\n",
       "24      11.4299\n",
       "25       8.6521\n",
       "26       5.5611\n",
       "27       5.5611\n",
       "28      11.4299\n",
       "29       9.7105\n",
       "         ...   \n",
       "1187     7.3465\n",
       "1188     8.5295\n",
       "1189     7.4450\n",
       "1190    18.8731\n",
       "1191    15.6634\n",
       "1192     6.2414\n",
       "1193     5.5611\n",
       "1194    13.0950\n",
       "1195    11.4299\n",
       "1196    24.0472\n",
       "1197     8.4167\n",
       "1198     7.3465\n",
       "1199     6.2414\n",
       "1200     5.5611\n",
       "1201     6.2414\n",
       "1202     5.5611\n",
       "1203    11.4299\n",
       "1204    13.0950\n",
       "1205    24.0472\n",
       "1206    13.0950\n",
       "1207    11.4299\n",
       "1208    28.9749\n",
       "1209    28.9749\n",
       "1210     9.7105\n",
       "1211     8.6521\n",
       "1212     8.6521\n",
       "1213     9.7105\n",
       "1214    13.0950\n",
       "1215    18.6235\n",
       "1216     6.2414\n",
       "Name: weight, Length: 1217, dtype: float64>"
      ]
     },
     "execution_count": 20,
     "metadata": {},
     "output_type": "execute_result"
    }
   ],
   "source": []
  },
  {
   "cell_type": "code",
   "execution_count": null,
   "metadata": {},
   "outputs": [],
   "source": []
  },
  {
   "cell_type": "code",
   "execution_count": 18,
   "metadata": {},
   "outputs": [
    {
     "data": {
      "text/plain": [
       "array([[<matplotlib.axes._subplots.AxesSubplot object at 0x7f96df66a7b8>]],\n",
       "      dtype=object)"
      ]
     },
     "execution_count": 18,
     "metadata": {},
     "output_type": "execute_result"
    },
    {
     "data": {
      "image/png": "[encoded data removed]",
      "text/plain": [
       "<Figure size 432x288 with 1 Axes>"
      ]
     },
     "metadata": {},
     "output_type": "display_data"
    }
   ],
   "source": []
  },
  {
   "cell_type": "code",
   "execution_count": null,
   "metadata": {},
   "outputs": [],
   "source": []
  },
  {
   "cell_type": "code",
   "execution_count": null,
   "metadata": {},
   "outputs": [],
   "source": []
  },
  {
   "cell_type": "code",
   "execution_count": null,
   "metadata": {},
   "outputs": [],
   "source": []
  },
  {
   "cell_type": "code",
   "execution_count": null,
   "metadata": {},
   "outputs": [],
   "source": []
  },
  {
   "cell_type": "code",
   "execution_count": null,
   "metadata": {},
   "outputs": [],
   "source": []
  },
  {
   "cell_type": "code",
   "execution_count": null,
   "metadata": {},
   "outputs": [],
   "source": []
  },
  {
   "cell_type": "code",
   "execution_count": null,
   "metadata": {},
   "outputs": [],
   "source": []
  },
  {
   "cell_type": "code",
   "execution_count": null,
   "metadata": {},
   "outputs": [],
   "source": []
  },
  {
   "cell_type": "code",
   "execution_count": null,
   "metadata": {},
   "outputs": [],
   "source": []
  },
  {
   "cell_type": "code",
   "execution_count": null,
   "metadata": {},
   "outputs": [],
   "source": []
  },
  {
   "cell_type": "code",
   "execution_count": null,
   "metadata": {},
   "outputs": [],
   "source": []
  },
  {
   "cell_type": "code",
   "execution_count": null,
   "metadata": {},
   "outputs": [],
   "source": []
  },
  {
   "cell_type": "code",
   "execution_count": null,
   "metadata": {},
   "outputs": [],
   "source": []
  },
  {
   "cell_type": "code",
   "execution_count": null,
   "metadata": {},
   "outputs": [],
   "source": []
  },
  {
   "cell_type": "code",
   "execution_count": null,
   "metadata": {},
   "outputs": [],
   "source": []
  },
  {
   "cell_type": "code",
   "execution_count": null,
   "metadata": {},
   "outputs": [],
   "source": []
  },
  {
   "cell_type": "code",
   "execution_count": null,
   "metadata": {},
   "outputs": [],
   "source": []
  },
  {
   "cell_type": "code",
   "execution_count": null,
   "metadata": {},
   "outputs": [],
   "source": []
  },
  {
   "cell_type": "code",
   "execution_count": null,
   "metadata": {},
   "outputs": [],
   "source": []
  },
  {
   "cell_type": "code",
   "execution_count": null,
   "metadata": {},
   "outputs": [],
   "source": []
  },
  {
   "cell_type": "code",
   "execution_count": null,
   "metadata": {},
   "outputs": [],
   "source": []
  },
  {
   "cell_type": "code",
   "execution_count": null,
   "metadata": {},
   "outputs": [],
   "source": []
  },
  {
   "cell_type": "code",
   "execution_count": 10,
   "metadata": {},
   "outputs": [
    {
     "data": {
      "text/plain": [
       "1217"
      ]
     },
     "execution_count": 10,
     "metadata": {},
     "output_type": "execute_result"
    }
   ],
   "source": [
    "len(dem_info)"
   ]
  },
  {
   "cell_type": "code",
   "execution_count": 11,
   "metadata": {},
   "outputs": [
    {
     "data": {
      "text/plain": [
       "1217"
      ]
     },
     "execution_count": 11,
     "metadata": {},
     "output_type": "execute_result"
    }
   ],
   "source": [
    "len(weight)"
   ]
  },
  {
   "cell_type": "code",
   "execution_count": null,
   "metadata": {},
   "outputs": [],
   "source": []
  },
  {
   "cell_type": "code",
   "execution_count": null,
   "metadata": {},
   "outputs": [],
   "source": []
  },
  {
   "cell_type": "code",
   "execution_count": null,
   "metadata": {},
   "outputs": [],
   "source": []
  },
  {
   "cell_type": "code",
   "execution_count": null,
   "metadata": {},
   "outputs": [],
   "source": []
  },
  {
   "cell_type": "code",
   "execution_count": null,
   "metadata": {},
   "outputs": [],
   "source": []
  },
  {
   "cell_type": "code",
   "execution_count": null,
   "metadata": {},
   "outputs": [],
   "source": []
  },
  {
   "cell_type": "code",
   "execution_count": null,
   "metadata": {},
   "outputs": [],
   "source": []
  },
  {
   "cell_type": "code",
   "execution_count": null,
   "metadata": {},
   "outputs": [],
   "source": []
  },
  {
   "cell_type": "code",
   "execution_count": null,
   "metadata": {},
   "outputs": [],
   "source": []
  },
  {
   "cell_type": "code",
   "execution_count": null,
   "metadata": {},
   "outputs": [],
   "source": []
  },
  {
   "cell_type": "code",
   "execution_count": null,
   "metadata": {},
   "outputs": [],
   "source": []
  },
  {
   "cell_type": "code",
   "execution_count": null,
   "metadata": {},
   "outputs": [],
   "source": []
  },
  {
   "cell_type": "code",
   "execution_count": null,
   "metadata": {},
   "outputs": [],
   "source": []
  },
  {
   "cell_type": "code",
   "execution_count": null,
   "metadata": {},
   "outputs": [],
   "source": []
  },
  {
   "cell_type": "code",
   "execution_count": null,
   "metadata": {},
   "outputs": [],
   "source": []
  },
  {
   "cell_type": "code",
   "execution_count": 12,
   "metadata": {},
   "outputs": [
    {
     "ename": "SyntaxError",
     "evalue": "unexpected EOF while parsing (<ipython-input-12-b882057075b2>, line 2)",
     "output_type": "error",
     "traceback": [
      "\u001b[0;36m  File \u001b[0;32m\"<ipython-input-12-b882057075b2>\"\u001b[0;36m, line \u001b[0;32m2\u001b[0m\n\u001b[0;31m    \u001b[0m\n\u001b[0m    ^\u001b[0m\n\u001b[0;31mSyntaxError\u001b[0m\u001b[0;31m:\u001b[0m unexpected EOF while parsing\n"
     ]
    }
   ],
   "source": [
    "for i in l:\n",
    "    "
   ]
  },
  {
   "cell_type": "code",
   "execution_count": null,
   "metadata": {},
   "outputs": [],
   "source": [
    "\n",
    "a"
   ]
  },
  {
   "cell_type": "code",
   "execution_count": null,
   "metadata": {},
   "outputs": [],
   "source": [
    "a[27]"
   ]
  },
  {
   "cell_type": "code",
   "execution_count": null,
   "metadata": {},
   "outputs": [],
   "source": []
  },
  {
   "cell_type": "code",
   "execution_count": null,
   "metadata": {},
   "outputs": [],
   "source": []
  },
  {
   "cell_type": "code",
   "execution_count": null,
   "metadata": {},
   "outputs": [],
   "source": []
  },
  {
   "cell_type": "code",
   "execution_count": null,
   "metadata": {},
   "outputs": [],
   "source": []
  },
  {
   "cell_type": "code",
   "execution_count": null,
   "metadata": {},
   "outputs": [],
   "source": [
    "l"
   ]
  },
  {
   "cell_type": "code",
   "execution_count": null,
   "metadata": {},
   "outputs": [],
   "source": []
  },
  {
   "cell_type": "code",
   "execution_count": null,
   "metadata": {},
   "outputs": [],
   "source": []
  },
  {
   "cell_type": "code",
   "execution_count": null,
   "metadata": {},
   "outputs": [],
   "source": []
  },
  {
   "cell_type": "code",
   "execution_count": null,
   "metadata": {},
   "outputs": [],
   "source": []
  },
  {
   "cell_type": "code",
   "execution_count": null,
   "metadata": {},
   "outputs": [],
   "source": []
  },
  {
   "cell_type": "code",
   "execution_count": null,
   "metadata": {},
   "outputs": [],
   "source": []
  },
  {
   "cell_type": "code",
   "execution_count": null,
   "metadata": {},
   "outputs": [],
   "source": []
  },
  {
   "cell_type": "code",
   "execution_count": null,
   "metadata": {},
   "outputs": [],
   "source": []
  },
  {
   "cell_type": "code",
   "execution_count": null,
   "metadata": {},
   "outputs": [],
   "source": []
  },
  {
   "cell_type": "code",
   "execution_count": null,
   "metadata": {},
   "outputs": [],
   "source": []
  },
  {
   "cell_type": "code",
   "execution_count": null,
   "metadata": {},
   "outputs": [],
   "source": [
    "bytes_read"
   ]
  },
  {
   "cell_type": "code",
   "execution_count": null,
   "metadata": {},
   "outputs": [],
   "source": []
  },
  {
   "cell_type": "code",
   "execution_count": null,
   "metadata": {},
   "outputs": [],
   "source": [
    "import codecs\n",
    "f = codecs.open(\"310816_dem.txt\", encoding='utf-8')\n",
    "for line in f:\n",
    "    \n",
    "    print( line[1])"
   ]
  },
  {
   "cell_type": "code",
   "execution_count": null,
   "metadata": {},
   "outputs": [],
   "source": []
  },
  {
   "cell_type": "code",
   "execution_count": null,
   "metadata": {},
   "outputs": [],
   "source": []
  },
  {
   "cell_type": "code",
   "execution_count": null,
   "metadata": {},
   "outputs": [],
   "source": []
  },
  {
   "cell_type": "code",
   "execution_count": null,
   "metadata": {},
   "outputs": [],
   "source": []
  },
  {
   "cell_type": "code",
   "execution_count": null,
   "metadata": {},
   "outputs": [],
   "source": []
  },
  {
   "cell_type": "code",
   "execution_count": null,
   "metadata": {},
   "outputs": [],
   "source": []
  },
  {
   "cell_type": "code",
   "execution_count": null,
   "metadata": {},
   "outputs": [],
   "source": []
  },
  {
   "cell_type": "code",
   "execution_count": null,
   "metadata": {},
   "outputs": [],
   "source": []
  },
  {
   "cell_type": "code",
   "execution_count": null,
   "metadata": {},
   "outputs": [],
   "source": []
  },
  {
   "cell_type": "code",
   "execution_count": null,
   "metadata": {},
   "outputs": [],
   "source": []
  },
  {
   "cell_type": "code",
   "execution_count": null,
   "metadata": {},
   "outputs": [],
   "source": []
  },
  {
   "cell_type": "code",
   "execution_count": null,
   "metadata": {},
   "outputs": [],
   "source": [
    "type(bytes_read)"
   ]
  },
  {
   "cell_type": "code",
   "execution_count": null,
   "metadata": {},
   "outputs": [],
   "source": [
    "    "
   ]
  },
  {
   "cell_type": "code",
   "execution_count": null,
   "metadata": {},
   "outputs": [],
   "source": []
  },
  {
   "cell_type": "code",
   "execution_count": null,
   "metadata": {},
   "outputs": [],
   "source": []
  },
  {
   "cell_type": "code",
   "execution_count": null,
   "metadata": {},
   "outputs": [],
   "source": []
  },
  {
   "cell_type": "code",
   "execution_count": null,
   "metadata": {},
   "outputs": [],
   "source": []
  },
  {
   "cell_type": "code",
   "execution_count": null,
   "metadata": {},
   "outputs": [],
   "source": []
  },
  {
   "cell_type": "code",
   "execution_count": null,
   "metadata": {},
   "outputs": [],
   "source": []
  }
 ],
 "metadata": {
  "kernelspec": {
   "display_name": "Python 3",
   "language": "python",
   "name": "python3"
  },
  "language_info": {
   "codemirror_mode": {
    "name": "ipython",
    "version": 3
   },
   "file_extension": ".py",
   "mimetype": "text/x-python",
   "name": "python",
   "nbconvert_exporter": "python",
   "pygments_lexer": "ipython3",
   "version": "3.6.5"
  }
 },
 "nbformat": 4,
 "nbformat_minor": 2
}
